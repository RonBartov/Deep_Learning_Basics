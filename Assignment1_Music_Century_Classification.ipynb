{
  "cells": [
    {
      "cell_type": "markdown",
      "metadata": {
        "id": "3bhfIKbQzGq2"
      },
      "source": [
        "# Assignment 1. Music Century Classification\n",
        "\n",
        "In this assignment, we will build models to predict which\n",
        "**century** a piece of music was released.  We will be using the \"YearPredictionMSD Data Set\"\n",
        "based on the Million Song Dataset. The data is available to download from the UCI\n",
        "Machine Learning Repository. Here are some links about the data:\n",
        "\n",
        "- https://archive.ics.uci.edu/ml/datasets/yearpredictionmsd\n",
        "- http://millionsongdataset.com/pages/tasks-demos/#yearrecognition\n",
        "\n",
        "Note that you are note allowed to import additional packages **(especially not PyTorch)**. One of the objectives is to understand how the training procedure actually operates, before working with PyTorch's autograd engine which does it all for us.\n"
      ]
    },
    {
      "cell_type": "markdown",
      "metadata": {
        "id": "47oq1vy5PUIV"
      },
      "source": [
        "## Question 1. Data (21%)\n",
        "\n",
        "Start by setting up a Google Colab notebook in which to do your work.\n",
        "Since you are working with a partner, you might find this link helpful:\n",
        "\n",
        "- https://colab.research.google.com/github/googlecolab/colabtools/blob/master/notebooks/colab-github-demo.ipynb\n",
        "\n",
        "The recommended way to work together is pair coding, where you and your partner are sitting together and writing code together.\n",
        "\n",
        "To process and read the data, we use the popular `pandas` package for data analysis."
      ]
    },
    {
      "cell_type": "code",
      "execution_count": null,
      "metadata": {
        "id": "1aFWpuNSzGq9"
      },
      "outputs": [],
      "source": [
        "import pandas\n",
        "import numpy as np\n",
        "import matplotlib.pyplot as plt"
      ]
    },
    {
      "cell_type": "markdown",
      "metadata": {
        "id": "Y7UWL6mFzGq-"
      },
      "source": [
        "Now that your notebook is set up, we can load the data into the notebook. The code below provides\n",
        "two ways of loading the data: directly from the internet, or through mounting Google Drive.\n",
        "The first method is easier but slower, and the second method is a bit involved at first, but\n",
        "can save you time later on. You will need to mount Google Drive for later assignments, so we recommend\n",
        "figuring how to do that now.\n",
        "\n",
        "Here are some resources to help you get started:\n",
        "\n",
        "- http.://colab.research.google.com/notebooks/io.ipynb"
      ]
    },
    {
      "cell_type": "code",
      "execution_count": null,
      "metadata": {
        "id": "EY6PrfV4zGq_",
        "colab": {
          "base_uri": "https://localhost:8080/"
        },
        "outputId": "2aca72b6-e28d-4293-bfb2-ada986d8777f"
      },
      "outputs": [
        {
          "output_type": "stream",
          "name": "stdout",
          "text": [
            "Drive already mounted at /content/gdrive; to attempt to forcibly remount, call drive.mount(\"/content/gdrive\", force_remount=True).\n"
          ]
        }
      ],
      "source": [
        "load_from_drive = True\n",
        "\n",
        "if not load_from_drive:\n",
        "  csv_path = \"http://archive.ics.uci.edu/ml/machine-learning-databases/00203/YearPredictionMSD.txt.zip\"\n",
        "else:\n",
        "  from google.colab import drive\n",
        "  drive.mount('/content/gdrive')\n",
        "  csv_path = '/content/gdrive/MyDrive/DP_course/YearPredictionMSD.txt.zip' # TODO - UPDATE ME WITH THE TRUE PATH!\n",
        "\n",
        "t_label = [\"year\"]\n",
        "x_labels = [\"var%d\" % i for i in range(1, 91)]\n",
        "df = pandas.read_csv(csv_path, names=t_label + x_labels)"
      ]
    },
    {
      "cell_type": "markdown",
      "metadata": {
        "id": "KgB83beNzGq_"
      },
      "source": [
        "Now that the data is loaded to your Colab notebook, you should be able to display the Pandas\n",
        "DataFrame `df` as a table:"
      ]
    },
    {
      "cell_type": "code",
      "execution_count": null,
      "metadata": {
        "id": "H5bBEnj3zGq_",
        "colab": {
          "base_uri": "https://localhost:8080/",
          "height": 467
        },
        "outputId": "da646268-85e2-4721-9769-8e784b94676c"
      },
      "outputs": [
        {
          "output_type": "execute_result",
          "data": {
            "text/plain": [
              "        year      var1      var2      var3      var4      var5      var6  \\\n",
              "0       2001  49.94357  21.47114  73.07750   8.74861 -17.40628 -13.09905   \n",
              "1       2001  48.73215  18.42930  70.32679  12.94636 -10.32437 -24.83777   \n",
              "2       2001  50.95714  31.85602  55.81851  13.41693  -6.57898 -18.54940   \n",
              "3       2001  48.24750  -1.89837  36.29772   2.58776   0.97170 -26.21683   \n",
              "4       2001  50.97020  42.20998  67.09964   8.46791 -15.85279 -16.81409   \n",
              "...      ...       ...       ...       ...       ...       ...       ...   \n",
              "515340  2006  51.28467  45.88068  22.19582  -5.53319  -3.61835 -16.36914   \n",
              "515341  2006  49.87870  37.93125  18.65987  -3.63581 -27.75665 -18.52988   \n",
              "515342  2006  45.12852  12.65758 -38.72018   8.80882 -29.29985  -2.28706   \n",
              "515343  2006  44.16614  32.38368  -3.34971  -2.49165 -19.59278 -18.67098   \n",
              "515344  2005  51.85726  59.11655  26.39436  -5.46030 -20.69012 -19.95528   \n",
              "\n",
              "            var7      var8      var9  ...     var81      var82      var83  \\\n",
              "0      -25.01202 -12.23257   7.83089  ...  13.01620  -54.40548   58.99367   \n",
              "1        8.76630  -0.92019  18.76548  ...   5.66812  -19.68073   33.04964   \n",
              "2       -3.27872  -2.35035  16.07017  ...   3.03800   26.05866  -50.92779   \n",
              "3        5.05097 -10.34124   3.55005  ...  34.57337 -171.70734  -16.96705   \n",
              "4      -12.48207  -9.37636  12.63699  ...   9.92661  -55.95724   64.92712   \n",
              "...          ...       ...       ...  ...       ...        ...        ...   \n",
              "515340   2.12652   5.18160  -8.66890  ...   4.81440   -3.75991  -30.92584   \n",
              "515341   7.76108   3.56109  -2.50351  ...  32.38589  -32.75535  -61.05473   \n",
              "515342 -18.40424 -22.28726  -4.52429  ... -18.73598  -71.15954 -123.98443   \n",
              "515343   8.78428   4.02039 -12.01230  ...  67.16763  282.77624   -4.63677   \n",
              "515344  -6.72771   2.29590  10.31018  ... -11.50511  -69.18291   60.58456   \n",
              "\n",
              "            var84     var85     var86      var87     var88      var89  \\\n",
              "0        15.37344   1.11144 -23.08793   68.40795  -1.82223  -27.46348   \n",
              "1        42.87836  -9.90378 -32.22788   70.49388  12.04941   58.43453   \n",
              "2        10.93792  -0.07568  43.20130 -115.00698  -0.05859   39.67068   \n",
              "3       -46.67617 -12.51516  82.58061  -72.08993   9.90558  199.62971   \n",
              "4       -17.72522  -1.49237  -7.50035   51.76631   7.88713   55.66926   \n",
              "...           ...       ...       ...        ...       ...        ...   \n",
              "515340   26.33968  -5.03390  21.86037 -142.29410   3.42901  -41.14721   \n",
              "515341   56.65182  15.29965  95.88193  -10.63242  12.96552   92.11633   \n",
              "515342  121.26989  10.89629  34.62409 -248.61020  -6.07171   53.96319   \n",
              "515343  144.00125  21.62652 -29.72432   71.47198  20.32240   14.83107   \n",
              "515344   28.64599  -4.39620 -64.56491  -45.61012  -5.51512   32.35602   \n",
              "\n",
              "           var90  \n",
              "0        2.26327  \n",
              "1       26.92061  \n",
              "2       -0.66345  \n",
              "3       18.85382  \n",
              "4       28.74903  \n",
              "...          ...  \n",
              "515340 -15.46052  \n",
              "515341  10.88815  \n",
              "515342  -8.09364  \n",
              "515343  39.74909  \n",
              "515344  12.17352  \n",
              "\n",
              "[515345 rows x 91 columns]"
            ],
            "text/html": [
              "\n",
              "  <div id=\"df-a5be666f-1fae-4b21-9e14-7b4d8ac76073\">\n",
              "    <div class=\"colab-df-container\">\n",
              "      <div>\n",
              "<style scoped>\n",
              "    .dataframe tbody tr th:only-of-type {\n",
              "        vertical-align: middle;\n",
              "    }\n",
              "\n",
              "    .dataframe tbody tr th {\n",
              "        vertical-align: top;\n",
              "    }\n",
              "\n",
              "    .dataframe thead th {\n",
              "        text-align: right;\n",
              "    }\n",
              "</style>\n",
              "<table border=\"1\" class=\"dataframe\">\n",
              "  <thead>\n",
              "    <tr style=\"text-align: right;\">\n",
              "      <th></th>\n",
              "      <th>year</th>\n",
              "      <th>var1</th>\n",
              "      <th>var2</th>\n",
              "      <th>var3</th>\n",
              "      <th>var4</th>\n",
              "      <th>var5</th>\n",
              "      <th>var6</th>\n",
              "      <th>var7</th>\n",
              "      <th>var8</th>\n",
              "      <th>var9</th>\n",
              "      <th>...</th>\n",
              "      <th>var81</th>\n",
              "      <th>var82</th>\n",
              "      <th>var83</th>\n",
              "      <th>var84</th>\n",
              "      <th>var85</th>\n",
              "      <th>var86</th>\n",
              "      <th>var87</th>\n",
              "      <th>var88</th>\n",
              "      <th>var89</th>\n",
              "      <th>var90</th>\n",
              "    </tr>\n",
              "  </thead>\n",
              "  <tbody>\n",
              "    <tr>\n",
              "      <th>0</th>\n",
              "      <td>2001</td>\n",
              "      <td>49.94357</td>\n",
              "      <td>21.47114</td>\n",
              "      <td>73.07750</td>\n",
              "      <td>8.74861</td>\n",
              "      <td>-17.40628</td>\n",
              "      <td>-13.09905</td>\n",
              "      <td>-25.01202</td>\n",
              "      <td>-12.23257</td>\n",
              "      <td>7.83089</td>\n",
              "      <td>...</td>\n",
              "      <td>13.01620</td>\n",
              "      <td>-54.40548</td>\n",
              "      <td>58.99367</td>\n",
              "      <td>15.37344</td>\n",
              "      <td>1.11144</td>\n",
              "      <td>-23.08793</td>\n",
              "      <td>68.40795</td>\n",
              "      <td>-1.82223</td>\n",
              "      <td>-27.46348</td>\n",
              "      <td>2.26327</td>\n",
              "    </tr>\n",
              "    <tr>\n",
              "      <th>1</th>\n",
              "      <td>2001</td>\n",
              "      <td>48.73215</td>\n",
              "      <td>18.42930</td>\n",
              "      <td>70.32679</td>\n",
              "      <td>12.94636</td>\n",
              "      <td>-10.32437</td>\n",
              "      <td>-24.83777</td>\n",
              "      <td>8.76630</td>\n",
              "      <td>-0.92019</td>\n",
              "      <td>18.76548</td>\n",
              "      <td>...</td>\n",
              "      <td>5.66812</td>\n",
              "      <td>-19.68073</td>\n",
              "      <td>33.04964</td>\n",
              "      <td>42.87836</td>\n",
              "      <td>-9.90378</td>\n",
              "      <td>-32.22788</td>\n",
              "      <td>70.49388</td>\n",
              "      <td>12.04941</td>\n",
              "      <td>58.43453</td>\n",
              "      <td>26.92061</td>\n",
              "    </tr>\n",
              "    <tr>\n",
              "      <th>2</th>\n",
              "      <td>2001</td>\n",
              "      <td>50.95714</td>\n",
              "      <td>31.85602</td>\n",
              "      <td>55.81851</td>\n",
              "      <td>13.41693</td>\n",
              "      <td>-6.57898</td>\n",
              "      <td>-18.54940</td>\n",
              "      <td>-3.27872</td>\n",
              "      <td>-2.35035</td>\n",
              "      <td>16.07017</td>\n",
              "      <td>...</td>\n",
              "      <td>3.03800</td>\n",
              "      <td>26.05866</td>\n",
              "      <td>-50.92779</td>\n",
              "      <td>10.93792</td>\n",
              "      <td>-0.07568</td>\n",
              "      <td>43.20130</td>\n",
              "      <td>-115.00698</td>\n",
              "      <td>-0.05859</td>\n",
              "      <td>39.67068</td>\n",
              "      <td>-0.66345</td>\n",
              "    </tr>\n",
              "    <tr>\n",
              "      <th>3</th>\n",
              "      <td>2001</td>\n",
              "      <td>48.24750</td>\n",
              "      <td>-1.89837</td>\n",
              "      <td>36.29772</td>\n",
              "      <td>2.58776</td>\n",
              "      <td>0.97170</td>\n",
              "      <td>-26.21683</td>\n",
              "      <td>5.05097</td>\n",
              "      <td>-10.34124</td>\n",
              "      <td>3.55005</td>\n",
              "      <td>...</td>\n",
              "      <td>34.57337</td>\n",
              "      <td>-171.70734</td>\n",
              "      <td>-16.96705</td>\n",
              "      <td>-46.67617</td>\n",
              "      <td>-12.51516</td>\n",
              "      <td>82.58061</td>\n",
              "      <td>-72.08993</td>\n",
              "      <td>9.90558</td>\n",
              "      <td>199.62971</td>\n",
              "      <td>18.85382</td>\n",
              "    </tr>\n",
              "    <tr>\n",
              "      <th>4</th>\n",
              "      <td>2001</td>\n",
              "      <td>50.97020</td>\n",
              "      <td>42.20998</td>\n",
              "      <td>67.09964</td>\n",
              "      <td>8.46791</td>\n",
              "      <td>-15.85279</td>\n",
              "      <td>-16.81409</td>\n",
              "      <td>-12.48207</td>\n",
              "      <td>-9.37636</td>\n",
              "      <td>12.63699</td>\n",
              "      <td>...</td>\n",
              "      <td>9.92661</td>\n",
              "      <td>-55.95724</td>\n",
              "      <td>64.92712</td>\n",
              "      <td>-17.72522</td>\n",
              "      <td>-1.49237</td>\n",
              "      <td>-7.50035</td>\n",
              "      <td>51.76631</td>\n",
              "      <td>7.88713</td>\n",
              "      <td>55.66926</td>\n",
              "      <td>28.74903</td>\n",
              "    </tr>\n",
              "    <tr>\n",
              "      <th>...</th>\n",
              "      <td>...</td>\n",
              "      <td>...</td>\n",
              "      <td>...</td>\n",
              "      <td>...</td>\n",
              "      <td>...</td>\n",
              "      <td>...</td>\n",
              "      <td>...</td>\n",
              "      <td>...</td>\n",
              "      <td>...</td>\n",
              "      <td>...</td>\n",
              "      <td>...</td>\n",
              "      <td>...</td>\n",
              "      <td>...</td>\n",
              "      <td>...</td>\n",
              "      <td>...</td>\n",
              "      <td>...</td>\n",
              "      <td>...</td>\n",
              "      <td>...</td>\n",
              "      <td>...</td>\n",
              "      <td>...</td>\n",
              "      <td>...</td>\n",
              "    </tr>\n",
              "    <tr>\n",
              "      <th>515340</th>\n",
              "      <td>2006</td>\n",
              "      <td>51.28467</td>\n",
              "      <td>45.88068</td>\n",
              "      <td>22.19582</td>\n",
              "      <td>-5.53319</td>\n",
              "      <td>-3.61835</td>\n",
              "      <td>-16.36914</td>\n",
              "      <td>2.12652</td>\n",
              "      <td>5.18160</td>\n",
              "      <td>-8.66890</td>\n",
              "      <td>...</td>\n",
              "      <td>4.81440</td>\n",
              "      <td>-3.75991</td>\n",
              "      <td>-30.92584</td>\n",
              "      <td>26.33968</td>\n",
              "      <td>-5.03390</td>\n",
              "      <td>21.86037</td>\n",
              "      <td>-142.29410</td>\n",
              "      <td>3.42901</td>\n",
              "      <td>-41.14721</td>\n",
              "      <td>-15.46052</td>\n",
              "    </tr>\n",
              "    <tr>\n",
              "      <th>515341</th>\n",
              "      <td>2006</td>\n",
              "      <td>49.87870</td>\n",
              "      <td>37.93125</td>\n",
              "      <td>18.65987</td>\n",
              "      <td>-3.63581</td>\n",
              "      <td>-27.75665</td>\n",
              "      <td>-18.52988</td>\n",
              "      <td>7.76108</td>\n",
              "      <td>3.56109</td>\n",
              "      <td>-2.50351</td>\n",
              "      <td>...</td>\n",
              "      <td>32.38589</td>\n",
              "      <td>-32.75535</td>\n",
              "      <td>-61.05473</td>\n",
              "      <td>56.65182</td>\n",
              "      <td>15.29965</td>\n",
              "      <td>95.88193</td>\n",
              "      <td>-10.63242</td>\n",
              "      <td>12.96552</td>\n",
              "      <td>92.11633</td>\n",
              "      <td>10.88815</td>\n",
              "    </tr>\n",
              "    <tr>\n",
              "      <th>515342</th>\n",
              "      <td>2006</td>\n",
              "      <td>45.12852</td>\n",
              "      <td>12.65758</td>\n",
              "      <td>-38.72018</td>\n",
              "      <td>8.80882</td>\n",
              "      <td>-29.29985</td>\n",
              "      <td>-2.28706</td>\n",
              "      <td>-18.40424</td>\n",
              "      <td>-22.28726</td>\n",
              "      <td>-4.52429</td>\n",
              "      <td>...</td>\n",
              "      <td>-18.73598</td>\n",
              "      <td>-71.15954</td>\n",
              "      <td>-123.98443</td>\n",
              "      <td>121.26989</td>\n",
              "      <td>10.89629</td>\n",
              "      <td>34.62409</td>\n",
              "      <td>-248.61020</td>\n",
              "      <td>-6.07171</td>\n",
              "      <td>53.96319</td>\n",
              "      <td>-8.09364</td>\n",
              "    </tr>\n",
              "    <tr>\n",
              "      <th>515343</th>\n",
              "      <td>2006</td>\n",
              "      <td>44.16614</td>\n",
              "      <td>32.38368</td>\n",
              "      <td>-3.34971</td>\n",
              "      <td>-2.49165</td>\n",
              "      <td>-19.59278</td>\n",
              "      <td>-18.67098</td>\n",
              "      <td>8.78428</td>\n",
              "      <td>4.02039</td>\n",
              "      <td>-12.01230</td>\n",
              "      <td>...</td>\n",
              "      <td>67.16763</td>\n",
              "      <td>282.77624</td>\n",
              "      <td>-4.63677</td>\n",
              "      <td>144.00125</td>\n",
              "      <td>21.62652</td>\n",
              "      <td>-29.72432</td>\n",
              "      <td>71.47198</td>\n",
              "      <td>20.32240</td>\n",
              "      <td>14.83107</td>\n",
              "      <td>39.74909</td>\n",
              "    </tr>\n",
              "    <tr>\n",
              "      <th>515344</th>\n",
              "      <td>2005</td>\n",
              "      <td>51.85726</td>\n",
              "      <td>59.11655</td>\n",
              "      <td>26.39436</td>\n",
              "      <td>-5.46030</td>\n",
              "      <td>-20.69012</td>\n",
              "      <td>-19.95528</td>\n",
              "      <td>-6.72771</td>\n",
              "      <td>2.29590</td>\n",
              "      <td>10.31018</td>\n",
              "      <td>...</td>\n",
              "      <td>-11.50511</td>\n",
              "      <td>-69.18291</td>\n",
              "      <td>60.58456</td>\n",
              "      <td>28.64599</td>\n",
              "      <td>-4.39620</td>\n",
              "      <td>-64.56491</td>\n",
              "      <td>-45.61012</td>\n",
              "      <td>-5.51512</td>\n",
              "      <td>32.35602</td>\n",
              "      <td>12.17352</td>\n",
              "    </tr>\n",
              "  </tbody>\n",
              "</table>\n",
              "<p>515345 rows × 91 columns</p>\n",
              "</div>\n",
              "      <button class=\"colab-df-convert\" onclick=\"convertToInteractive('df-a5be666f-1fae-4b21-9e14-7b4d8ac76073')\"\n",
              "              title=\"Convert this dataframe to an interactive table.\"\n",
              "              style=\"display:none;\">\n",
              "        \n",
              "  <svg xmlns=\"http://www.w3.org/2000/svg\" height=\"24px\"viewBox=\"0 0 24 24\"\n",
              "       width=\"24px\">\n",
              "    <path d=\"M0 0h24v24H0V0z\" fill=\"none\"/>\n",
              "    <path d=\"M18.56 5.44l.94 2.06.94-2.06 2.06-.94-2.06-.94-.94-2.06-.94 2.06-2.06.94zm-11 1L8.5 8.5l.94-2.06 2.06-.94-2.06-.94L8.5 2.5l-.94 2.06-2.06.94zm10 10l.94 2.06.94-2.06 2.06-.94-2.06-.94-.94-2.06-.94 2.06-2.06.94z\"/><path d=\"M17.41 7.96l-1.37-1.37c-.4-.4-.92-.59-1.43-.59-.52 0-1.04.2-1.43.59L10.3 9.45l-7.72 7.72c-.78.78-.78 2.05 0 2.83L4 21.41c.39.39.9.59 1.41.59.51 0 1.02-.2 1.41-.59l7.78-7.78 2.81-2.81c.8-.78.8-2.07 0-2.86zM5.41 20L4 18.59l7.72-7.72 1.47 1.35L5.41 20z\"/>\n",
              "  </svg>\n",
              "      </button>\n",
              "      \n",
              "  <style>\n",
              "    .colab-df-container {\n",
              "      display:flex;\n",
              "      flex-wrap:wrap;\n",
              "      gap: 12px;\n",
              "    }\n",
              "\n",
              "    .colab-df-convert {\n",
              "      background-color: #E8F0FE;\n",
              "      border: none;\n",
              "      border-radius: 50%;\n",
              "      cursor: pointer;\n",
              "      display: none;\n",
              "      fill: #1967D2;\n",
              "      height: 32px;\n",
              "      padding: 0 0 0 0;\n",
              "      width: 32px;\n",
              "    }\n",
              "\n",
              "    .colab-df-convert:hover {\n",
              "      background-color: #E2EBFA;\n",
              "      box-shadow: 0px 1px 2px rgba(60, 64, 67, 0.3), 0px 1px 3px 1px rgba(60, 64, 67, 0.15);\n",
              "      fill: #174EA6;\n",
              "    }\n",
              "\n",
              "    [theme=dark] .colab-df-convert {\n",
              "      background-color: #3B4455;\n",
              "      fill: #D2E3FC;\n",
              "    }\n",
              "\n",
              "    [theme=dark] .colab-df-convert:hover {\n",
              "      background-color: #434B5C;\n",
              "      box-shadow: 0px 1px 3px 1px rgba(0, 0, 0, 0.15);\n",
              "      filter: drop-shadow(0px 1px 2px rgba(0, 0, 0, 0.3));\n",
              "      fill: #FFFFFF;\n",
              "    }\n",
              "  </style>\n",
              "\n",
              "      <script>\n",
              "        const buttonEl =\n",
              "          document.querySelector('#df-a5be666f-1fae-4b21-9e14-7b4d8ac76073 button.colab-df-convert');\n",
              "        buttonEl.style.display =\n",
              "          google.colab.kernel.accessAllowed ? 'block' : 'none';\n",
              "\n",
              "        async function convertToInteractive(key) {\n",
              "          const element = document.querySelector('#df-a5be666f-1fae-4b21-9e14-7b4d8ac76073');\n",
              "          const dataTable =\n",
              "            await google.colab.kernel.invokeFunction('convertToInteractive',\n",
              "                                                     [key], {});\n",
              "          if (!dataTable) return;\n",
              "\n",
              "          const docLinkHtml = 'Like what you see? Visit the ' +\n",
              "            '<a target=\"_blank\" href=https://colab.research.google.com/notebooks/data_table.ipynb>data table notebook</a>'\n",
              "            + ' to learn more about interactive tables.';\n",
              "          element.innerHTML = '';\n",
              "          dataTable['output_type'] = 'display_data';\n",
              "          await google.colab.output.renderOutput(dataTable, element);\n",
              "          const docLink = document.createElement('div');\n",
              "          docLink.innerHTML = docLinkHtml;\n",
              "          element.appendChild(docLink);\n",
              "        }\n",
              "      </script>\n",
              "    </div>\n",
              "  </div>\n",
              "  "
            ]
          },
          "metadata": {},
          "execution_count": 29
        }
      ],
      "source": [
        "df"
      ]
    },
    {
      "cell_type": "markdown",
      "metadata": {
        "id": "KaLuAMH_zGrA"
      },
      "source": [
        "To set up our data for classification, we'll use the \"year\" field to represent\n",
        "whether a song was released in the 20-th century. In our case `df[\"year\"]` will be 1 if\n",
        "the year was released after 2000, and 0 otherwise."
      ]
    },
    {
      "cell_type": "code",
      "execution_count": null,
      "metadata": {
        "id": "tZdGlNgdzGrA"
      },
      "outputs": [],
      "source": [
        "df[\"year\"] = df[\"year\"].map(lambda x: int(x > 2000))"
      ]
    },
    {
      "cell_type": "code",
      "execution_count": null,
      "metadata": {
        "id": "xugy7FZ8eoAd",
        "colab": {
          "base_uri": "https://localhost:8080/",
          "height": 749
        },
        "outputId": "8997f9c2-26bc-43a4-c99d-eadd71eac87c"
      },
      "outputs": [
        {
          "output_type": "execute_result",
          "data": {
            "text/plain": [
              "    year      var1       var2      var3      var4      var5      var6  \\\n",
              "0      1  49.94357   21.47114  73.07750   8.74861 -17.40628 -13.09905   \n",
              "1      1  48.73215   18.42930  70.32679  12.94636 -10.32437 -24.83777   \n",
              "2      1  50.95714   31.85602  55.81851  13.41693  -6.57898 -18.54940   \n",
              "3      1  48.24750   -1.89837  36.29772   2.58776   0.97170 -26.21683   \n",
              "4      1  50.97020   42.20998  67.09964   8.46791 -15.85279 -16.81409   \n",
              "5      1  50.54767    0.31568  92.35066  22.38696 -25.51870 -19.04928   \n",
              "6      1  50.57546   33.17843  50.53517  11.55217 -27.24764  -8.78206   \n",
              "7      1  48.26892    8.97526  75.23158  24.04945 -16.02105 -14.09491   \n",
              "8      1  49.75468   33.99581  56.73846   2.89581  -2.92429 -26.44413   \n",
              "9      1  45.17809   46.34234 -40.65357  -2.47909   1.21253  -0.65302   \n",
              "10     1  39.13076  -23.01763 -36.20583   1.67519  -4.27101  13.01158   \n",
              "11     1  37.66498  -34.05910 -17.36060 -26.77781 -39.95119 -20.75000   \n",
              "12     1  26.51957 -148.15762 -13.30095  -7.25851  17.22029 -21.99439   \n",
              "13     1  37.68491  -26.84185 -27.10566 -14.95883  -5.87200 -21.68979   \n",
              "14     0  39.11695   -8.29767 -51.37966  -4.42668 -30.06506 -11.95916   \n",
              "15     1  35.05129  -67.97714 -14.20239  -6.68696  -0.61230 -18.70341   \n",
              "16     1  33.63129  -96.14912 -89.38216 -12.11699  13.77252  -6.69377   \n",
              "17     0  41.38639  -20.78665  51.80155  17.21415 -36.44189 -11.53169   \n",
              "18     0  37.45034   11.42615  56.28982  19.58426 -16.43530   2.22457   \n",
              "19     0  39.71092   -4.92800  12.88590 -11.87773   2.48031 -16.11028   \n",
              "\n",
              "        var7      var8      var9  ...     var81      var82      var83  \\\n",
              "0  -25.01202 -12.23257   7.83089  ...  13.01620  -54.40548   58.99367   \n",
              "1    8.76630  -0.92019  18.76548  ...   5.66812  -19.68073   33.04964   \n",
              "2   -3.27872  -2.35035  16.07017  ...   3.03800   26.05866  -50.92779   \n",
              "3    5.05097 -10.34124   3.55005  ...  34.57337 -171.70734  -16.96705   \n",
              "4  -12.48207  -9.37636  12.63699  ...   9.92661  -55.95724   64.92712   \n",
              "5   20.67345  -5.19943   3.63566  ...   6.59753  -50.69577   26.02574   \n",
              "6  -12.04282  -9.53930  28.61811  ...  11.63681   25.44182  134.62382   \n",
              "7    8.11871  -1.87566   7.46701  ...  18.03989  -58.46192  -65.56438   \n",
              "8    1.71392  -0.55644  22.08594  ...  18.70812    5.20391  -27.75192   \n",
              "9   -6.95536 -12.20040  17.02512  ...  -4.36742  -87.55285  -70.79677   \n",
              "10   8.05718  -8.41088   6.27370  ...  32.86051  -26.08461 -186.82429   \n",
              "11  -0.10231  -0.89972  -1.30205  ...  11.18909   45.20614   53.83925   \n",
              "12   5.51947   3.48418   2.61738  ...  23.80442  251.76360   18.81642   \n",
              "13   4.87374 -18.01800   1.52141  ... -67.57637  234.27192  -72.34557   \n",
              "14  -0.85322  -8.86179  11.36680  ...  42.22923  478.26580  -10.33823   \n",
              "15  -1.31928  -9.46370   5.53492  ...  10.25585   94.90539   15.95689   \n",
              "16 -33.36843 -24.81437  21.22757  ...  49.93249  -14.47489   40.70590   \n",
              "17  11.75252  -7.62428  -3.65488  ...  50.37614  -40.48205   48.07805   \n",
              "18   1.02668  -7.34736  -0.01184  ... -22.46207  -25.77228 -322.42841   \n",
              "19 -16.40421  -8.29657   9.86817  ...  11.92816  -73.72412   16.19039   \n",
              "\n",
              "        var84     var85      var86      var87     var88       var89     var90  \n",
              "0    15.37344   1.11144  -23.08793   68.40795  -1.82223   -27.46348   2.26327  \n",
              "1    42.87836  -9.90378  -32.22788   70.49388  12.04941    58.43453  26.92061  \n",
              "2    10.93792  -0.07568   43.20130 -115.00698  -0.05859    39.67068  -0.66345  \n",
              "3   -46.67617 -12.51516   82.58061  -72.08993   9.90558   199.62971  18.85382  \n",
              "4   -17.72522  -1.49237   -7.50035   51.76631   7.88713    55.66926  28.74903  \n",
              "5    18.94430  -0.33730    6.09352   35.18381   5.00283   -11.02257   0.02263  \n",
              "6    21.51982   8.17570   35.46251   11.57736   4.50056    -4.62739   1.40192  \n",
              "7    46.99856  -4.09602   56.37650  -18.29975  -0.30633     3.98364  -3.72556  \n",
              "8    17.22100  -0.85210  -15.67150  -26.36257   5.48708    -9.13495   6.08680  \n",
              "9    76.57355  -7.71727    3.26926 -298.49845  11.49326   -89.21804 -15.09719  \n",
              "10  113.58176   9.28727   44.60282  158.00425  -2.59543   109.19723  23.36143  \n",
              "11    2.59467  -4.00958  -47.74886 -170.92864  -5.19009     8.83617  -7.16056  \n",
              "12  157.09656 -27.79449 -137.72740  115.28414  23.00230  -164.02536  51.54138  \n",
              "13 -362.25101 -25.55019  -89.08971 -891.58937  14.11648 -1030.99180  99.28967  \n",
              "14 -103.76858  39.19511  -98.76636 -122.81061  -2.14942  -211.48202 -12.81569  \n",
              "15  -98.15732  -9.64859  -93.52834  -95.82981  20.73063  -562.07671  43.44696  \n",
              "16   58.63692   8.81522   27.28474    5.78046   3.44539   259.10825  10.28525  \n",
              "17   -7.62399   6.51934  -30.46090  -53.87264   4.44627    58.16913  -0.02409  \n",
              "18 -146.57408  13.61588   92.22918 -439.80259  25.73235   157.22967  38.70617  \n",
              "19    9.79606   9.71693   -9.90907  -20.65851   2.34002   -31.57015   1.58400  \n",
              "\n",
              "[20 rows x 91 columns]"
            ],
            "text/html": [
              "\n",
              "  <div id=\"df-fb645b97-43e7-4a4e-aae7-aedfb0e57149\">\n",
              "    <div class=\"colab-df-container\">\n",
              "      <div>\n",
              "<style scoped>\n",
              "    .dataframe tbody tr th:only-of-type {\n",
              "        vertical-align: middle;\n",
              "    }\n",
              "\n",
              "    .dataframe tbody tr th {\n",
              "        vertical-align: top;\n",
              "    }\n",
              "\n",
              "    .dataframe thead th {\n",
              "        text-align: right;\n",
              "    }\n",
              "</style>\n",
              "<table border=\"1\" class=\"dataframe\">\n",
              "  <thead>\n",
              "    <tr style=\"text-align: right;\">\n",
              "      <th></th>\n",
              "      <th>year</th>\n",
              "      <th>var1</th>\n",
              "      <th>var2</th>\n",
              "      <th>var3</th>\n",
              "      <th>var4</th>\n",
              "      <th>var5</th>\n",
              "      <th>var6</th>\n",
              "      <th>var7</th>\n",
              "      <th>var8</th>\n",
              "      <th>var9</th>\n",
              "      <th>...</th>\n",
              "      <th>var81</th>\n",
              "      <th>var82</th>\n",
              "      <th>var83</th>\n",
              "      <th>var84</th>\n",
              "      <th>var85</th>\n",
              "      <th>var86</th>\n",
              "      <th>var87</th>\n",
              "      <th>var88</th>\n",
              "      <th>var89</th>\n",
              "      <th>var90</th>\n",
              "    </tr>\n",
              "  </thead>\n",
              "  <tbody>\n",
              "    <tr>\n",
              "      <th>0</th>\n",
              "      <td>1</td>\n",
              "      <td>49.94357</td>\n",
              "      <td>21.47114</td>\n",
              "      <td>73.07750</td>\n",
              "      <td>8.74861</td>\n",
              "      <td>-17.40628</td>\n",
              "      <td>-13.09905</td>\n",
              "      <td>-25.01202</td>\n",
              "      <td>-12.23257</td>\n",
              "      <td>7.83089</td>\n",
              "      <td>...</td>\n",
              "      <td>13.01620</td>\n",
              "      <td>-54.40548</td>\n",
              "      <td>58.99367</td>\n",
              "      <td>15.37344</td>\n",
              "      <td>1.11144</td>\n",
              "      <td>-23.08793</td>\n",
              "      <td>68.40795</td>\n",
              "      <td>-1.82223</td>\n",
              "      <td>-27.46348</td>\n",
              "      <td>2.26327</td>\n",
              "    </tr>\n",
              "    <tr>\n",
              "      <th>1</th>\n",
              "      <td>1</td>\n",
              "      <td>48.73215</td>\n",
              "      <td>18.42930</td>\n",
              "      <td>70.32679</td>\n",
              "      <td>12.94636</td>\n",
              "      <td>-10.32437</td>\n",
              "      <td>-24.83777</td>\n",
              "      <td>8.76630</td>\n",
              "      <td>-0.92019</td>\n",
              "      <td>18.76548</td>\n",
              "      <td>...</td>\n",
              "      <td>5.66812</td>\n",
              "      <td>-19.68073</td>\n",
              "      <td>33.04964</td>\n",
              "      <td>42.87836</td>\n",
              "      <td>-9.90378</td>\n",
              "      <td>-32.22788</td>\n",
              "      <td>70.49388</td>\n",
              "      <td>12.04941</td>\n",
              "      <td>58.43453</td>\n",
              "      <td>26.92061</td>\n",
              "    </tr>\n",
              "    <tr>\n",
              "      <th>2</th>\n",
              "      <td>1</td>\n",
              "      <td>50.95714</td>\n",
              "      <td>31.85602</td>\n",
              "      <td>55.81851</td>\n",
              "      <td>13.41693</td>\n",
              "      <td>-6.57898</td>\n",
              "      <td>-18.54940</td>\n",
              "      <td>-3.27872</td>\n",
              "      <td>-2.35035</td>\n",
              "      <td>16.07017</td>\n",
              "      <td>...</td>\n",
              "      <td>3.03800</td>\n",
              "      <td>26.05866</td>\n",
              "      <td>-50.92779</td>\n",
              "      <td>10.93792</td>\n",
              "      <td>-0.07568</td>\n",
              "      <td>43.20130</td>\n",
              "      <td>-115.00698</td>\n",
              "      <td>-0.05859</td>\n",
              "      <td>39.67068</td>\n",
              "      <td>-0.66345</td>\n",
              "    </tr>\n",
              "    <tr>\n",
              "      <th>3</th>\n",
              "      <td>1</td>\n",
              "      <td>48.24750</td>\n",
              "      <td>-1.89837</td>\n",
              "      <td>36.29772</td>\n",
              "      <td>2.58776</td>\n",
              "      <td>0.97170</td>\n",
              "      <td>-26.21683</td>\n",
              "      <td>5.05097</td>\n",
              "      <td>-10.34124</td>\n",
              "      <td>3.55005</td>\n",
              "      <td>...</td>\n",
              "      <td>34.57337</td>\n",
              "      <td>-171.70734</td>\n",
              "      <td>-16.96705</td>\n",
              "      <td>-46.67617</td>\n",
              "      <td>-12.51516</td>\n",
              "      <td>82.58061</td>\n",
              "      <td>-72.08993</td>\n",
              "      <td>9.90558</td>\n",
              "      <td>199.62971</td>\n",
              "      <td>18.85382</td>\n",
              "    </tr>\n",
              "    <tr>\n",
              "      <th>4</th>\n",
              "      <td>1</td>\n",
              "      <td>50.97020</td>\n",
              "      <td>42.20998</td>\n",
              "      <td>67.09964</td>\n",
              "      <td>8.46791</td>\n",
              "      <td>-15.85279</td>\n",
              "      <td>-16.81409</td>\n",
              "      <td>-12.48207</td>\n",
              "      <td>-9.37636</td>\n",
              "      <td>12.63699</td>\n",
              "      <td>...</td>\n",
              "      <td>9.92661</td>\n",
              "      <td>-55.95724</td>\n",
              "      <td>64.92712</td>\n",
              "      <td>-17.72522</td>\n",
              "      <td>-1.49237</td>\n",
              "      <td>-7.50035</td>\n",
              "      <td>51.76631</td>\n",
              "      <td>7.88713</td>\n",
              "      <td>55.66926</td>\n",
              "      <td>28.74903</td>\n",
              "    </tr>\n",
              "    <tr>\n",
              "      <th>5</th>\n",
              "      <td>1</td>\n",
              "      <td>50.54767</td>\n",
              "      <td>0.31568</td>\n",
              "      <td>92.35066</td>\n",
              "      <td>22.38696</td>\n",
              "      <td>-25.51870</td>\n",
              "      <td>-19.04928</td>\n",
              "      <td>20.67345</td>\n",
              "      <td>-5.19943</td>\n",
              "      <td>3.63566</td>\n",
              "      <td>...</td>\n",
              "      <td>6.59753</td>\n",
              "      <td>-50.69577</td>\n",
              "      <td>26.02574</td>\n",
              "      <td>18.94430</td>\n",
              "      <td>-0.33730</td>\n",
              "      <td>6.09352</td>\n",
              "      <td>35.18381</td>\n",
              "      <td>5.00283</td>\n",
              "      <td>-11.02257</td>\n",
              "      <td>0.02263</td>\n",
              "    </tr>\n",
              "    <tr>\n",
              "      <th>6</th>\n",
              "      <td>1</td>\n",
              "      <td>50.57546</td>\n",
              "      <td>33.17843</td>\n",
              "      <td>50.53517</td>\n",
              "      <td>11.55217</td>\n",
              "      <td>-27.24764</td>\n",
              "      <td>-8.78206</td>\n",
              "      <td>-12.04282</td>\n",
              "      <td>-9.53930</td>\n",
              "      <td>28.61811</td>\n",
              "      <td>...</td>\n",
              "      <td>11.63681</td>\n",
              "      <td>25.44182</td>\n",
              "      <td>134.62382</td>\n",
              "      <td>21.51982</td>\n",
              "      <td>8.17570</td>\n",
              "      <td>35.46251</td>\n",
              "      <td>11.57736</td>\n",
              "      <td>4.50056</td>\n",
              "      <td>-4.62739</td>\n",
              "      <td>1.40192</td>\n",
              "    </tr>\n",
              "    <tr>\n",
              "      <th>7</th>\n",
              "      <td>1</td>\n",
              "      <td>48.26892</td>\n",
              "      <td>8.97526</td>\n",
              "      <td>75.23158</td>\n",
              "      <td>24.04945</td>\n",
              "      <td>-16.02105</td>\n",
              "      <td>-14.09491</td>\n",
              "      <td>8.11871</td>\n",
              "      <td>-1.87566</td>\n",
              "      <td>7.46701</td>\n",
              "      <td>...</td>\n",
              "      <td>18.03989</td>\n",
              "      <td>-58.46192</td>\n",
              "      <td>-65.56438</td>\n",
              "      <td>46.99856</td>\n",
              "      <td>-4.09602</td>\n",
              "      <td>56.37650</td>\n",
              "      <td>-18.29975</td>\n",
              "      <td>-0.30633</td>\n",
              "      <td>3.98364</td>\n",
              "      <td>-3.72556</td>\n",
              "    </tr>\n",
              "    <tr>\n",
              "      <th>8</th>\n",
              "      <td>1</td>\n",
              "      <td>49.75468</td>\n",
              "      <td>33.99581</td>\n",
              "      <td>56.73846</td>\n",
              "      <td>2.89581</td>\n",
              "      <td>-2.92429</td>\n",
              "      <td>-26.44413</td>\n",
              "      <td>1.71392</td>\n",
              "      <td>-0.55644</td>\n",
              "      <td>22.08594</td>\n",
              "      <td>...</td>\n",
              "      <td>18.70812</td>\n",
              "      <td>5.20391</td>\n",
              "      <td>-27.75192</td>\n",
              "      <td>17.22100</td>\n",
              "      <td>-0.85210</td>\n",
              "      <td>-15.67150</td>\n",
              "      <td>-26.36257</td>\n",
              "      <td>5.48708</td>\n",
              "      <td>-9.13495</td>\n",
              "      <td>6.08680</td>\n",
              "    </tr>\n",
              "    <tr>\n",
              "      <th>9</th>\n",
              "      <td>1</td>\n",
              "      <td>45.17809</td>\n",
              "      <td>46.34234</td>\n",
              "      <td>-40.65357</td>\n",
              "      <td>-2.47909</td>\n",
              "      <td>1.21253</td>\n",
              "      <td>-0.65302</td>\n",
              "      <td>-6.95536</td>\n",
              "      <td>-12.20040</td>\n",
              "      <td>17.02512</td>\n",
              "      <td>...</td>\n",
              "      <td>-4.36742</td>\n",
              "      <td>-87.55285</td>\n",
              "      <td>-70.79677</td>\n",
              "      <td>76.57355</td>\n",
              "      <td>-7.71727</td>\n",
              "      <td>3.26926</td>\n",
              "      <td>-298.49845</td>\n",
              "      <td>11.49326</td>\n",
              "      <td>-89.21804</td>\n",
              "      <td>-15.09719</td>\n",
              "    </tr>\n",
              "    <tr>\n",
              "      <th>10</th>\n",
              "      <td>1</td>\n",
              "      <td>39.13076</td>\n",
              "      <td>-23.01763</td>\n",
              "      <td>-36.20583</td>\n",
              "      <td>1.67519</td>\n",
              "      <td>-4.27101</td>\n",
              "      <td>13.01158</td>\n",
              "      <td>8.05718</td>\n",
              "      <td>-8.41088</td>\n",
              "      <td>6.27370</td>\n",
              "      <td>...</td>\n",
              "      <td>32.86051</td>\n",
              "      <td>-26.08461</td>\n",
              "      <td>-186.82429</td>\n",
              "      <td>113.58176</td>\n",
              "      <td>9.28727</td>\n",
              "      <td>44.60282</td>\n",
              "      <td>158.00425</td>\n",
              "      <td>-2.59543</td>\n",
              "      <td>109.19723</td>\n",
              "      <td>23.36143</td>\n",
              "    </tr>\n",
              "    <tr>\n",
              "      <th>11</th>\n",
              "      <td>1</td>\n",
              "      <td>37.66498</td>\n",
              "      <td>-34.05910</td>\n",
              "      <td>-17.36060</td>\n",
              "      <td>-26.77781</td>\n",
              "      <td>-39.95119</td>\n",
              "      <td>-20.75000</td>\n",
              "      <td>-0.10231</td>\n",
              "      <td>-0.89972</td>\n",
              "      <td>-1.30205</td>\n",
              "      <td>...</td>\n",
              "      <td>11.18909</td>\n",
              "      <td>45.20614</td>\n",
              "      <td>53.83925</td>\n",
              "      <td>2.59467</td>\n",
              "      <td>-4.00958</td>\n",
              "      <td>-47.74886</td>\n",
              "      <td>-170.92864</td>\n",
              "      <td>-5.19009</td>\n",
              "      <td>8.83617</td>\n",
              "      <td>-7.16056</td>\n",
              "    </tr>\n",
              "    <tr>\n",
              "      <th>12</th>\n",
              "      <td>1</td>\n",
              "      <td>26.51957</td>\n",
              "      <td>-148.15762</td>\n",
              "      <td>-13.30095</td>\n",
              "      <td>-7.25851</td>\n",
              "      <td>17.22029</td>\n",
              "      <td>-21.99439</td>\n",
              "      <td>5.51947</td>\n",
              "      <td>3.48418</td>\n",
              "      <td>2.61738</td>\n",
              "      <td>...</td>\n",
              "      <td>23.80442</td>\n",
              "      <td>251.76360</td>\n",
              "      <td>18.81642</td>\n",
              "      <td>157.09656</td>\n",
              "      <td>-27.79449</td>\n",
              "      <td>-137.72740</td>\n",
              "      <td>115.28414</td>\n",
              "      <td>23.00230</td>\n",
              "      <td>-164.02536</td>\n",
              "      <td>51.54138</td>\n",
              "    </tr>\n",
              "    <tr>\n",
              "      <th>13</th>\n",
              "      <td>1</td>\n",
              "      <td>37.68491</td>\n",
              "      <td>-26.84185</td>\n",
              "      <td>-27.10566</td>\n",
              "      <td>-14.95883</td>\n",
              "      <td>-5.87200</td>\n",
              "      <td>-21.68979</td>\n",
              "      <td>4.87374</td>\n",
              "      <td>-18.01800</td>\n",
              "      <td>1.52141</td>\n",
              "      <td>...</td>\n",
              "      <td>-67.57637</td>\n",
              "      <td>234.27192</td>\n",
              "      <td>-72.34557</td>\n",
              "      <td>-362.25101</td>\n",
              "      <td>-25.55019</td>\n",
              "      <td>-89.08971</td>\n",
              "      <td>-891.58937</td>\n",
              "      <td>14.11648</td>\n",
              "      <td>-1030.99180</td>\n",
              "      <td>99.28967</td>\n",
              "    </tr>\n",
              "    <tr>\n",
              "      <th>14</th>\n",
              "      <td>0</td>\n",
              "      <td>39.11695</td>\n",
              "      <td>-8.29767</td>\n",
              "      <td>-51.37966</td>\n",
              "      <td>-4.42668</td>\n",
              "      <td>-30.06506</td>\n",
              "      <td>-11.95916</td>\n",
              "      <td>-0.85322</td>\n",
              "      <td>-8.86179</td>\n",
              "      <td>11.36680</td>\n",
              "      <td>...</td>\n",
              "      <td>42.22923</td>\n",
              "      <td>478.26580</td>\n",
              "      <td>-10.33823</td>\n",
              "      <td>-103.76858</td>\n",
              "      <td>39.19511</td>\n",
              "      <td>-98.76636</td>\n",
              "      <td>-122.81061</td>\n",
              "      <td>-2.14942</td>\n",
              "      <td>-211.48202</td>\n",
              "      <td>-12.81569</td>\n",
              "    </tr>\n",
              "    <tr>\n",
              "      <th>15</th>\n",
              "      <td>1</td>\n",
              "      <td>35.05129</td>\n",
              "      <td>-67.97714</td>\n",
              "      <td>-14.20239</td>\n",
              "      <td>-6.68696</td>\n",
              "      <td>-0.61230</td>\n",
              "      <td>-18.70341</td>\n",
              "      <td>-1.31928</td>\n",
              "      <td>-9.46370</td>\n",
              "      <td>5.53492</td>\n",
              "      <td>...</td>\n",
              "      <td>10.25585</td>\n",
              "      <td>94.90539</td>\n",
              "      <td>15.95689</td>\n",
              "      <td>-98.15732</td>\n",
              "      <td>-9.64859</td>\n",
              "      <td>-93.52834</td>\n",
              "      <td>-95.82981</td>\n",
              "      <td>20.73063</td>\n",
              "      <td>-562.07671</td>\n",
              "      <td>43.44696</td>\n",
              "    </tr>\n",
              "    <tr>\n",
              "      <th>16</th>\n",
              "      <td>1</td>\n",
              "      <td>33.63129</td>\n",
              "      <td>-96.14912</td>\n",
              "      <td>-89.38216</td>\n",
              "      <td>-12.11699</td>\n",
              "      <td>13.77252</td>\n",
              "      <td>-6.69377</td>\n",
              "      <td>-33.36843</td>\n",
              "      <td>-24.81437</td>\n",
              "      <td>21.22757</td>\n",
              "      <td>...</td>\n",
              "      <td>49.93249</td>\n",
              "      <td>-14.47489</td>\n",
              "      <td>40.70590</td>\n",
              "      <td>58.63692</td>\n",
              "      <td>8.81522</td>\n",
              "      <td>27.28474</td>\n",
              "      <td>5.78046</td>\n",
              "      <td>3.44539</td>\n",
              "      <td>259.10825</td>\n",
              "      <td>10.28525</td>\n",
              "    </tr>\n",
              "    <tr>\n",
              "      <th>17</th>\n",
              "      <td>0</td>\n",
              "      <td>41.38639</td>\n",
              "      <td>-20.78665</td>\n",
              "      <td>51.80155</td>\n",
              "      <td>17.21415</td>\n",
              "      <td>-36.44189</td>\n",
              "      <td>-11.53169</td>\n",
              "      <td>11.75252</td>\n",
              "      <td>-7.62428</td>\n",
              "      <td>-3.65488</td>\n",
              "      <td>...</td>\n",
              "      <td>50.37614</td>\n",
              "      <td>-40.48205</td>\n",
              "      <td>48.07805</td>\n",
              "      <td>-7.62399</td>\n",
              "      <td>6.51934</td>\n",
              "      <td>-30.46090</td>\n",
              "      <td>-53.87264</td>\n",
              "      <td>4.44627</td>\n",
              "      <td>58.16913</td>\n",
              "      <td>-0.02409</td>\n",
              "    </tr>\n",
              "    <tr>\n",
              "      <th>18</th>\n",
              "      <td>0</td>\n",
              "      <td>37.45034</td>\n",
              "      <td>11.42615</td>\n",
              "      <td>56.28982</td>\n",
              "      <td>19.58426</td>\n",
              "      <td>-16.43530</td>\n",
              "      <td>2.22457</td>\n",
              "      <td>1.02668</td>\n",
              "      <td>-7.34736</td>\n",
              "      <td>-0.01184</td>\n",
              "      <td>...</td>\n",
              "      <td>-22.46207</td>\n",
              "      <td>-25.77228</td>\n",
              "      <td>-322.42841</td>\n",
              "      <td>-146.57408</td>\n",
              "      <td>13.61588</td>\n",
              "      <td>92.22918</td>\n",
              "      <td>-439.80259</td>\n",
              "      <td>25.73235</td>\n",
              "      <td>157.22967</td>\n",
              "      <td>38.70617</td>\n",
              "    </tr>\n",
              "    <tr>\n",
              "      <th>19</th>\n",
              "      <td>0</td>\n",
              "      <td>39.71092</td>\n",
              "      <td>-4.92800</td>\n",
              "      <td>12.88590</td>\n",
              "      <td>-11.87773</td>\n",
              "      <td>2.48031</td>\n",
              "      <td>-16.11028</td>\n",
              "      <td>-16.40421</td>\n",
              "      <td>-8.29657</td>\n",
              "      <td>9.86817</td>\n",
              "      <td>...</td>\n",
              "      <td>11.92816</td>\n",
              "      <td>-73.72412</td>\n",
              "      <td>16.19039</td>\n",
              "      <td>9.79606</td>\n",
              "      <td>9.71693</td>\n",
              "      <td>-9.90907</td>\n",
              "      <td>-20.65851</td>\n",
              "      <td>2.34002</td>\n",
              "      <td>-31.57015</td>\n",
              "      <td>1.58400</td>\n",
              "    </tr>\n",
              "  </tbody>\n",
              "</table>\n",
              "<p>20 rows × 91 columns</p>\n",
              "</div>\n",
              "      <button class=\"colab-df-convert\" onclick=\"convertToInteractive('df-fb645b97-43e7-4a4e-aae7-aedfb0e57149')\"\n",
              "              title=\"Convert this dataframe to an interactive table.\"\n",
              "              style=\"display:none;\">\n",
              "        \n",
              "  <svg xmlns=\"http://www.w3.org/2000/svg\" height=\"24px\"viewBox=\"0 0 24 24\"\n",
              "       width=\"24px\">\n",
              "    <path d=\"M0 0h24v24H0V0z\" fill=\"none\"/>\n",
              "    <path d=\"M18.56 5.44l.94 2.06.94-2.06 2.06-.94-2.06-.94-.94-2.06-.94 2.06-2.06.94zm-11 1L8.5 8.5l.94-2.06 2.06-.94-2.06-.94L8.5 2.5l-.94 2.06-2.06.94zm10 10l.94 2.06.94-2.06 2.06-.94-2.06-.94-.94-2.06-.94 2.06-2.06.94z\"/><path d=\"M17.41 7.96l-1.37-1.37c-.4-.4-.92-.59-1.43-.59-.52 0-1.04.2-1.43.59L10.3 9.45l-7.72 7.72c-.78.78-.78 2.05 0 2.83L4 21.41c.39.39.9.59 1.41.59.51 0 1.02-.2 1.41-.59l7.78-7.78 2.81-2.81c.8-.78.8-2.07 0-2.86zM5.41 20L4 18.59l7.72-7.72 1.47 1.35L5.41 20z\"/>\n",
              "  </svg>\n",
              "      </button>\n",
              "      \n",
              "  <style>\n",
              "    .colab-df-container {\n",
              "      display:flex;\n",
              "      flex-wrap:wrap;\n",
              "      gap: 12px;\n",
              "    }\n",
              "\n",
              "    .colab-df-convert {\n",
              "      background-color: #E8F0FE;\n",
              "      border: none;\n",
              "      border-radius: 50%;\n",
              "      cursor: pointer;\n",
              "      display: none;\n",
              "      fill: #1967D2;\n",
              "      height: 32px;\n",
              "      padding: 0 0 0 0;\n",
              "      width: 32px;\n",
              "    }\n",
              "\n",
              "    .colab-df-convert:hover {\n",
              "      background-color: #E2EBFA;\n",
              "      box-shadow: 0px 1px 2px rgba(60, 64, 67, 0.3), 0px 1px 3px 1px rgba(60, 64, 67, 0.15);\n",
              "      fill: #174EA6;\n",
              "    }\n",
              "\n",
              "    [theme=dark] .colab-df-convert {\n",
              "      background-color: #3B4455;\n",
              "      fill: #D2E3FC;\n",
              "    }\n",
              "\n",
              "    [theme=dark] .colab-df-convert:hover {\n",
              "      background-color: #434B5C;\n",
              "      box-shadow: 0px 1px 3px 1px rgba(0, 0, 0, 0.15);\n",
              "      filter: drop-shadow(0px 1px 2px rgba(0, 0, 0, 0.3));\n",
              "      fill: #FFFFFF;\n",
              "    }\n",
              "  </style>\n",
              "\n",
              "      <script>\n",
              "        const buttonEl =\n",
              "          document.querySelector('#df-fb645b97-43e7-4a4e-aae7-aedfb0e57149 button.colab-df-convert');\n",
              "        buttonEl.style.display =\n",
              "          google.colab.kernel.accessAllowed ? 'block' : 'none';\n",
              "\n",
              "        async function convertToInteractive(key) {\n",
              "          const element = document.querySelector('#df-fb645b97-43e7-4a4e-aae7-aedfb0e57149');\n",
              "          const dataTable =\n",
              "            await google.colab.kernel.invokeFunction('convertToInteractive',\n",
              "                                                     [key], {});\n",
              "          if (!dataTable) return;\n",
              "\n",
              "          const docLinkHtml = 'Like what you see? Visit the ' +\n",
              "            '<a target=\"_blank\" href=https://colab.research.google.com/notebooks/data_table.ipynb>data table notebook</a>'\n",
              "            + ' to learn more about interactive tables.';\n",
              "          element.innerHTML = '';\n",
              "          dataTable['output_type'] = 'display_data';\n",
              "          await google.colab.output.renderOutput(dataTable, element);\n",
              "          const docLink = document.createElement('div');\n",
              "          docLink.innerHTML = docLinkHtml;\n",
              "          element.appendChild(docLink);\n",
              "        }\n",
              "      </script>\n",
              "    </div>\n",
              "  </div>\n",
              "  "
            ]
          },
          "metadata": {},
          "execution_count": 31
        }
      ],
      "source": [
        "df.head(20)"
      ]
    },
    {
      "cell_type": "markdown",
      "metadata": {
        "id": "ncjxI4WdzGrA"
      },
      "source": [
        "### Part (a) -- 7%\n",
        "\n",
        "The data set description text asks us to respect the below train/test split to\n",
        "avoid the \"producer effect\". That is, we want to make sure that no song from a single artist\n",
        "ends up in both the training and test set.\n",
        "\n",
        "Explain why it would be problematic to have\n",
        "some songs from an artist in the training set, and other songs from the same artist in the\n",
        "test set. (Hint: Remember that we want our test accuracy to predict how well the model\n",
        "will perform in practice on a song it hasn't learned about.)"
      ]
    },
    {
      "cell_type": "code",
      "execution_count": null,
      "metadata": {
        "id": "2NiYlxpFzGrB"
      },
      "outputs": [],
      "source": [
        "df_train = df[:463715]\n",
        "df_test = df[463715:]\n",
        "\n",
        "# convert to numpy\n",
        "train_xs = df_train[x_labels].to_numpy()\n",
        "train_ts = df_train[t_label].to_numpy()\n",
        "test_xs = df_test[x_labels].to_numpy()\n",
        "test_ts = df_test[t_label].to_numpy()\n",
        "\n",
        "# Write your explanation here\n"
      ]
    },
    {
      "cell_type": "markdown",
      "source": [
        "It is problematic to use in the test data a song from an artist that the network used for learning because then our network can classify songs that were recorded in different centuries but because they are from the same artist they have similar properties and thus classified incorrectly\n",
        "\n",
        "In addition even if the songs were recorded in the same century, it will be easier for the network to classify the songs century because it did the learning proccess on smilar song and by that give us false indecation about the the model generalization."
      ],
      "metadata": {
        "id": "kpNd3byEnq6_"
      }
    },
    {
      "cell_type": "markdown",
      "metadata": {
        "id": "BYSzd4XUzGrB"
      },
      "source": [
        "### Part (b) -- 7%\n",
        "\n",
        "It can be beneficial to **normalize** the columns, so that each column (feature)\n",
        "has the *same* mean and standard deviation."
      ]
    },
    {
      "cell_type": "code",
      "execution_count": null,
      "metadata": {
        "id": "TPuWLksJzGrB"
      },
      "outputs": [],
      "source": [
        "feature_means = df_train.mean()[1:].to_numpy() # the [1:] removes the mean of the \"year\" field\n",
        "feature_stds  = df_train.std()[1:].to_numpy()\n",
        "\n",
        "train_norm_xs = (train_xs - feature_means) / feature_stds\n",
        "test_norm_xs = (test_xs - feature_means) / feature_stds"
      ]
    },
    {
      "cell_type": "markdown",
      "metadata": {
        "id": "U4zmZk6ezGrC"
      },
      "source": [
        "Notice how in our code, we normalized the test set using the *training data means and standard deviations*.\n",
        "This is *not* a bug.\n",
        "\n",
        "Explain why it would be improper to compute and use test set means\n",
        "and standard deviations. (Hint: Remember what we want to use the test accuracy to measure.)"
      ]
    },
    {
      "cell_type": "markdown",
      "source": [
        "As shown in lecture, in order to prevent biasing and noise in our model we  normalize our data to be with zero mean and unit variance.    \n",
        "The normalization in our training process was in respect to the training data.\n",
        "While creating the neural network, we assume that all our input data has the same propability distribution and that is why we want to normalize our test data with the same probability parameters as those we used to train the network (the network is actually designed to be consistent for a specific input probability attributes)."
      ],
      "metadata": {
        "id": "4RrQa5WErqi9"
      }
    },
    {
      "cell_type": "markdown",
      "metadata": {
        "id": "k4GqL5J_zGrC"
      },
      "source": [
        "### Part (c) -- 7%\n",
        "\n",
        "Finally, we'll move some of the data in our training set into a validation set.\n",
        "\n",
        "Explain why we should limit how many times we use the test set, and that we should use the validation\n",
        "set during the model building process."
      ]
    },
    {
      "cell_type": "code",
      "execution_count": null,
      "metadata": {
        "id": "HsXv1U3gzGrC"
      },
      "outputs": [],
      "source": [
        "# shuffle the training set\n",
        "reindex = np.random.permutation(len(train_xs))\n",
        "train_xs = train_xs[reindex]\n",
        "train_norm_xs = train_norm_xs[reindex]\n",
        "train_ts = train_ts[reindex]\n",
        "\n",
        "# use the first 50000 elements of `train_xs` as the validation set\n",
        "train_xs, val_xs           = train_xs[50000:], train_xs[:50000]\n",
        "train_norm_xs, val_norm_xs = train_norm_xs[50000:], train_norm_xs[:50000]\n",
        "train_ts, val_ts           = train_ts[50000:], train_ts[:50000]\n",
        "\n",
        "# Write your explanation here\n"
      ]
    },
    {
      "cell_type": "markdown",
      "source": [
        "We want our test data to be with new data that was never tested on the model and by so predict the model accuracy for general data. By using the test data for the learning proccess we will optimize the model pararameters according to the results and won't get an unbaised accuracy."
      ],
      "metadata": {
        "id": "jpKQvp4Hv8ji"
      }
    },
    {
      "cell_type": "markdown",
      "metadata": {
        "id": "Gy4lt445zGrD"
      },
      "source": [
        "## Part 2. Classification (79%)\n",
        "\n",
        "We will first build a *classification* model to perform decade classification.\n",
        "These helper functions are written for you. All other code that you write in this section should be vectorized whenever possible (i.e., avoid unnecessary loops)."
      ]
    },
    {
      "cell_type": "code",
      "execution_count": null,
      "metadata": {
        "id": "E6BA_s-kzGrD"
      },
      "outputs": [],
      "source": [
        "def sigmoid(z):\n",
        "  return 1 / (1 + np.exp(-z))\n",
        "\n",
        "def cross_entropy(t, y): # y = label estimation\n",
        "  epsilon = 10**(-9)*np.ones(len(y))\n",
        "  return -t * np.log(y + epsilon) - (1 - t) * np.log(1 - y + epsilon)\n",
        "\n",
        "def cost(y, t):\n",
        "  return np.mean(cross_entropy(t, y))\n",
        "\n",
        "def get_accuracy(y, t):\n",
        "  acc = 0\n",
        "  N = 0\n",
        "  for i in range(len(y)):\n",
        "    N += 1\n",
        "    if (y[i] >= 0.5 and t[i] == 1) or (y[i] < 0.5 and t[i] == 0):\n",
        "      acc += 1\n",
        "  return acc / N"
      ]
    },
    {
      "cell_type": "markdown",
      "metadata": {
        "id": "e8ZIfooBzGrD"
      },
      "source": [
        "### Part (a) -- 7%\n",
        "\n",
        "Write a function `pred` that computes the prediction `y` based on logistic regression, i.e., a single layer with weights `w` and bias `b`. The output is given by:\n",
        "\\begin{equation}\n",
        "y = \\sigma({\\bf w}^T {\\bf x} + b),\n",
        "\\end{equation}\n",
        "where the value of $y$ is an estimate of the probability that the song is released in the current century, namely ${\\rm year} =1$."
      ]
    },
    {
      "cell_type": "code",
      "execution_count": null,
      "metadata": {
        "id": "naY5mT4_zGrD"
      },
      "outputs": [],
      "source": [
        "def pred(w, b, X):\n",
        "  \"\"\"\n",
        "  Returns the prediction `y` of the target based on the weights `w` and scalar bias `b`.\n",
        "\n",
        "  Preconditions: np.shape(w) == (90,)\n",
        "                 type(b) == float\n",
        "                 np.shape(X) = (N, 90) for some N\n",
        "\n",
        "  >>> pred(np.zeros(90), 1, np.ones([2, 90]))\n",
        "  array([0.73105858, 0.73105858]) # It's okay if your output differs in the last decimals\n",
        "  \"\"\"\n",
        "  z = w.T @ X.T + b\n",
        "  y =  sigmoid(z)\n",
        "  return y\n",
        "\n"
      ]
    },
    {
      "cell_type": "markdown",
      "metadata": {
        "id": "bxNdmSd3zGrE"
      },
      "source": [
        "### Part (b) -- 7%\n",
        "\n",
        "Write a function `derivative_cost` that computes and returns the gradients\n",
        "$\\frac{\\partial\\mathcal{L}}{\\partial {\\bf w}}$ and\n",
        "$\\frac{\\partial\\mathcal{L}}{\\partial b}$. Here, `X` is the input, `y` is the prediction, and `t` is the true label.\n",
        "\n",
        "\n"
      ]
    },
    {
      "cell_type": "code",
      "execution_count": null,
      "metadata": {
        "id": "P80bu7qmzGrE"
      },
      "outputs": [],
      "source": [
        "def derivative_cost(X, y, t):\n",
        "  \"\"\"\n",
        "  Returns a tuple containing the gradients dLdw and dLdb.\n",
        "\n",
        "  Precondition: np.shape(X) == (N, 90) for some N\n",
        "                np.shape(y) == (N,)\n",
        "                np.shape(t) == (N,)\n",
        "\n",
        "  Postcondition: np.shape(dLdw) = (90,)\n",
        "           type(dLdb) = float\n",
        "  \"\"\"\n",
        "  # Your code goes here\n",
        "  N = len(y)\n",
        "  #####DlDb########\n",
        "  dLdb = (1/N)*np.sum(y-t)\n",
        "\n",
        "  #####DlDw########\n",
        "  dLdw = (1/N)*((y-t) @ X)\n",
        "  return dLdb ,dLdw\n",
        "\n"
      ]
    },
    {
      "cell_type": "markdown",
      "metadata": {
        "id": "okPRGM3BjKe2"
      },
      "source": [
        "# **Explenation on Gradients**\n",
        "\n",
        "\n"
      ]
    },
    {
      "cell_type": "markdown",
      "metadata": {
        "id": "kHfmPVdsg0eX"
      },
      "source": [
        "**Add here an explaination on how the gradients are computed**:\n",
        "\n",
        "Write your explanation here. Use Latex to write mathematical expressions. [Here is a brief tutorial on latex for notebooks.](https://www.math.ubc.ca/~pwalls/math-python/jupyter/latex/)\n",
        "\n"
      ]
    },
    {
      "cell_type": "markdown",
      "source": [
        "Donate $y(n) = \\sigma({\\bf w}^T {\\bf x(n)} + b)$ then:\n",
        "\\begin{equation}\n",
        "\\frac{\\partial\\mathcal{y(n)}}{\\partial {b}} =  y(n)(1-y(n))\n",
        "\\end{equation}\n",
        "\\begin{equation}\n",
        "\\frac{\\partial\\mathcal{L}}{\\partial {b}} = \\frac{1}{N} \\sum_{n=1}^{N}\n",
        "\\frac{\\partial\\mathcal{}}{\\partial {b}} [-t(n)log(y(n)) - (1-t(n))log(1-y(n))]=\n",
        "\\end{equation}\n",
        "\\begin{equation}\n",
        "= \\frac{1}{N} \\sum_{n=1}^{N}\n",
        "[y(n)(1-y(n))[\\frac{t(n)}{y(n)}-\\frac{t(n)-1}{1-y(n)}] = \\frac{1}{N} \\sum_{n=1}^{N}(y(n)-t(n))\n",
        "\\end{equation}"
      ],
      "metadata": {
        "id": "Ddm8THbebEYt"
      }
    },
    {
      "cell_type": "markdown",
      "source": [
        "\\begin{equation}\n",
        "\\frac{\\partial\\mathcal{y(n)}}{\\partial {w_i}} = \\frac{\\partial\\mathcal{}}{\\partial {w_i}}\\sigma({\\bf w}^T {\\bf x(n)} + b) = \\frac{\\partial\\mathcal{}}{\\partial {w_i}}\\sigma(\\sum_{j=1}^{90}x(n , j)  + b) = x(n , i)y(n)(1-y(n))\n",
        "\\end{equation}\n",
        "\\begin{equation}\n",
        "\\frac{\\partial\\mathcal{L}}{\\partial {w_i}} = \\frac{1}{N} \\sum_{n=1}^{N}\n",
        "\\frac{\\partial\\mathcal{}}{\\partial {w_i}} [-t(n)log(y(n)) - (1-t(n))log(1-y(n))]=\n",
        "\\end{equation}\n",
        "\\begin{equation}\n",
        "= \\frac{1}{N} \\sum_{n=1}^{N}x(n , i)(y(n)-t(n))\n",
        "\\end{equation}"
      ],
      "metadata": {
        "id": "HOKnCMhcbK7M"
      }
    },
    {
      "cell_type": "markdown",
      "metadata": {
        "id": "XhQXAKd4zGrE"
      },
      "source": [
        "### Part (c) -- 7%\n",
        "\n",
        "We can check that our derivative is implemented correctly using the finite difference rule. In 1D, the\n",
        "finite difference rule tells us that for small $h$, we should have\n",
        "\n",
        "$$\\frac{f(x+h) - f(x)}{h} \\approx f'(x)$$\n",
        "\n",
        "Show that $\\frac{\\partial\\mathcal{L}}{\\partial b}$  is implement correctly\n",
        "by comparing the result from `derivative_cost` with the empirical cost derivative computed using the above numerical approximation.\n"
      ]
    },
    {
      "cell_type": "code",
      "execution_count": null,
      "metadata": {
        "id": "SpRTD-fozGrF",
        "outputId": "22ec48a8-ac78-4334-9f35-02a7b263c021",
        "colab": {
          "base_uri": "https://localhost:8080/"
        }
      },
      "outputs": [
        {
          "output_type": "stream",
          "name": "stdout",
          "text": [
            "The analytical results is - 0.4835468279710576\n",
            "The algorithm results is -  0.48355397286226065\n"
          ]
        }
      ],
      "source": [
        "\n",
        "#create small just paremetrs for cheking the derivative\n",
        "h = 0.001 #step size\n",
        "w = np.array([0.2 , 0.3 , 0.4 , 0.1]) #weigts\n",
        "b = 1 #bias\n",
        "X = np.array([[1, 2, 3, 4],  [5, 6, 7, 8]]) #array of size (2 , 4)\n",
        "y = pred(w, b, X)\n",
        "t = np.array([1 , 0])\n",
        "\n",
        "analitic= derivative_cost(X, y, t)\n",
        "print(\"The analytical results is -\", analitic[0])\n",
        "numerical = (cost(pred(w, b+h, X), t)-cost(pred(w, b, X), t))/h\n",
        "print(\"The algorithm results is - \",numerical)\n",
        "\n"
      ]
    },
    {
      "cell_type": "markdown",
      "metadata": {
        "id": "MTiplTPhzGrF"
      },
      "source": [
        "### Part (d) -- 7%\n",
        "\n",
        "Show that $\\frac{\\partial\\mathcal{L}}{\\partial {\\bf w}}$  is implement correctly."
      ]
    },
    {
      "cell_type": "code",
      "execution_count": null,
      "metadata": {
        "id": "oVTsHgnPzGrF",
        "outputId": "f4a51dde-efcc-4dc2-a8fd-dee13922e50a",
        "colab": {
          "base_uri": "https://localhost:8080/"
        }
      },
      "outputs": [
        {
          "output_type": "stream",
          "name": "stdout",
          "text": [
            "The analytical results is - [2.48232507 2.9658719  3.44941873 3.93296555]\n",
            "The algorithm results is -  [2.482332589092806, 2.9659036911073855, 3.4494906927560187, 3.9330935792887267]\n"
          ]
        }
      ],
      "source": [
        "#same parameters\n",
        "\n",
        "\n",
        "analitic= derivative_cost(X, y, t)\n",
        "print(\"The analytical results is -\", analitic[1])\n",
        "numerical = []\n",
        "#compute the numerical derivative\n",
        "for i in range(4):\n",
        "  hi_vec = np.zeros(4)\n",
        "  hi_vec[i] = h\n",
        "  numerical.append((cost(pred(w+hi_vec, b, X), t)-cost(pred(w, b, X), t))/h)\n",
        "print(\"The algorithm results is - \",numerical)"
      ]
    },
    {
      "cell_type": "markdown",
      "metadata": {
        "id": "pgBTPF_2zGrG"
      },
      "source": [
        "### Part (e) -- 7%\n",
        "\n",
        "Now that you have a gradient function that works, we can actually run gradient descent.\n",
        "Complete the following code that will run stochastic: gradient descent training:"
      ]
    },
    {
      "cell_type": "code",
      "execution_count": null,
      "metadata": {
        "id": "nW4DEuuPzGrG"
      },
      "outputs": [],
      "source": [
        "def run_gradient_descent(train_norm_xs,train_ts,val_norm_xs,val_ts,w0, b0, mu=0.1, batch_size=100, max_iters=100 , adaptive_learning_rate = False ):\n",
        "  \"\"\"Return the values of (w, b) after running gradient descent for max_iters.\n",
        "  We use:\n",
        "    - train_norm_xs and train_ts as the training set\n",
        "    - val_norm_xs and val_ts as the test set\n",
        "    - mu as the learning rate\n",
        "    - (w0, b0) as the initial values of (w, b)\n",
        "\n",
        "  Precondition: np.shape(w0) == (90,)\n",
        "                type(b0) == float\n",
        "\n",
        "  Postcondition: np.shape(w) == (90,)\n",
        "                 type(b) == float\n",
        "  \"\"\"\n",
        "  w = w0\n",
        "  b = b0\n",
        "  iter = 0\n",
        "  learning_rate = 1\n",
        "  train_acc_vec, valid_acc_vec, valid_cost_vec, epochs_vec = [], [], [], []\n",
        "\n",
        "  while iter < max_iters:\n",
        "    # shuffle the training set (there is code above for how to do this)\n",
        "    reindex = np.random.permutation(len(train_norm_xs))\n",
        "    train_norm_xs = train_norm_xs[reindex]\n",
        "    train_ts = train_ts[reindex]\n",
        "    for i in range(0, len(train_norm_xs), batch_size): # iterate over each minibatch\n",
        "      # minibatch that we are working with:\n",
        "      X = train_norm_xs[i:(i + batch_size)]\n",
        "      t = train_ts[i:(i + batch_size), 0]\n",
        "\n",
        "\n",
        "      # since len(train_norm_xs) does not divide batch_size evenly, we will skip over\n",
        "      # the \"last\" minibatch\n",
        "      if np.shape(X)[0] != batch_size:\n",
        "        continue\n",
        "      #if np.shape(X_val)[0] != batch_size:\n",
        "       # continue\n",
        "      # compute the prediction\n",
        "      y = pred(w, b, X)\n",
        "\n",
        "      # update w and b\n",
        "      if adaptive_learning_rate == True:\n",
        "        learning_rate = 1 / (0.01*iter + 2)\n",
        "      else:\n",
        "        learning_rate = mu\n",
        "\n",
        "      grad_cost = derivative_cost(X, y, t)\n",
        "      b= b- learning_rate*grad_cost[0]\n",
        "      w= w- learning_rate*grad_cost[1]\n",
        "\n",
        "      # increment the iteration count\n",
        "      iter += 1\n",
        "      # compute and print the *validation* loss and accuracy\n",
        "      if (iter % 10 == 0):\n",
        "        #y_val = pred(w, b, X_val)\n",
        "\n",
        "        #val_acc = get_accuracy(y_val, t_val)\n",
        "        y_val = pred(w, b, val_norm_xs)\n",
        "        val_acc = get_accuracy(y_val, val_ts)\n",
        "\n",
        "        # cost calc:\n",
        "        val_batchsize = 2000 ;\n",
        "        cost_sum = 0\n",
        "        for j in range(0,len(val_norm_xs),val_batchsize):\n",
        "          val_batch = val_norm_xs[j:(j+val_batchsize)]\n",
        "          val_ts_batch = val_ts[j:(j+val_batchsize),0]\n",
        "          y_val_batch = pred(w, b, val_batch)\n",
        "          val_cost = cost(y_val_batch,val_ts_batch)\n",
        "          cost_sum += val_cost*(val_batchsize/len(y_val))\n",
        "\n",
        "        valid_cost_vec.append(cost_sum)\n",
        "\n",
        "        # print(\"Iter %d. [Val Acc %.0f%%, Loss %f]\" % (\n",
        "        #         iter, val_acc * 100, val_cost))\n",
        "\n",
        "        # for plotting the the convergence curve\n",
        "        valid_acc_vec.append(val_acc)\n",
        "        epochs_vec.append(iter)\n",
        "\n",
        "      if iter >= max_iters:\n",
        "        break\n",
        "\n",
        "      # Think what parameters you should return for further use\n",
        "\n",
        "  return w,b, valid_acc_vec, epochs_vec, valid_cost_vec\n",
        "\n"
      ]
    },
    {
      "cell_type": "markdown",
      "metadata": {
        "id": "-MqzT0jGzGrH"
      },
      "source": [
        "### Part (f) -- 7%\n",
        "\n",
        "Call `run_gradient_descent` with the weights and biases all initialized to zero.\n",
        "Show that if the learning rate $\\mu$ is too small, then convergence is slow.\n",
        "Also, show that if $\\mu$ is too large, then the optimization algorirthm does not converge. The demonstration should be made using plots showing these effects."
      ]
    },
    {
      "cell_type": "code",
      "execution_count": null,
      "metadata": {
        "id": "tE32Iqo6zGrH"
      },
      "outputs": [],
      "source": [
        "w0 = np.zeros(90)\n",
        "b0 = np.zeros(1)[0]\n",
        "\n",
        "w_f1,b_f1, valid_acc_vec_f1, epochs_vec_f1, valid_cost_vec_f1 = run_gradient_descent(train_norm_xs,train_ts,val_norm_xs,val_ts,w0, b0, mu=1, batch_size=100, max_iters=500)\n",
        "w_f2,b_f2, valid_acc_vec_f2, epochs_vec_f2, valid_cost_vec_f2 = run_gradient_descent(train_norm_xs,train_ts,val_norm_xs,val_ts,w0, b0, mu=0.1, batch_size=100, max_iters=500)\n",
        "w_f3,b_f3, valid_acc_vec_f3, epochs_vec_f3, valid_cost_vec_f3 = run_gradient_descent(train_norm_xs,train_ts,val_norm_xs,val_ts,w0, b0, mu=0.01, batch_size=100, max_iters=500)\n",
        "\n"
      ]
    },
    {
      "cell_type": "code",
      "source": [
        "\n",
        "plt.title(\"Training Curve - Validation Cost\")\n",
        "plt.plot(epochs_vec_f1, valid_cost_vec_f1, label=\"u = 1\")\n",
        "plt.plot(epochs_vec_f2, valid_cost_vec_f2, label=\"u = 0.1\")\n",
        "plt.plot(epochs_vec_f3, valid_cost_vec_f3, label=\"u = 0.01\")\n",
        "plt.xlabel(\"Epoch\")\n",
        "plt.ylabel(\"Cost\")\n",
        "plt.legend(loc='best')\n",
        "plt.show()\n",
        "\n",
        "plt.title(\"Training Curve - Validation Accuracy \")\n",
        "plt.plot(epochs_vec_f1, valid_acc_vec_f1, label=\"u = 1\")\n",
        "plt.plot(epochs_vec_f2, valid_acc_vec_f2, label=\"u = 0.1\")\n",
        "plt.plot(epochs_vec_f3, valid_acc_vec_f3, label=\"u = 0.01\")\n",
        "plt.xlabel(\"Epoch\")\n",
        "plt.ylabel(\"Accuracy\")\n",
        "plt.legend(loc='best')\n",
        "plt.show()"
      ],
      "metadata": {
        "id": "wntAkVALl0wC",
        "outputId": "b71bf49e-fda0-4433-82ea-82b893721689",
        "colab": {
          "base_uri": "https://localhost:8080/",
          "height": 573
        }
      },
      "execution_count": null,
      "outputs": [
        {
          "output_type": "display_data",
          "data": {
            "text/plain": [
              "<Figure size 432x288 with 1 Axes>"
            ],
            "image/png": "[encoded data removed]"
          },
          "metadata": {
            "needs_background": "light"
          }
        },
        {
          "output_type": "display_data",
          "data": {
            "text/plain": [
              "<Figure size 432x288 with 1 Axes>"
            ],
            "image/png": "[encoded data removed]"
          },
          "metadata": {
            "needs_background": "light"
          }
        }
      ]
    },
    {
      "cell_type": "markdown",
      "metadata": {
        "id": "S44GmUZ12o-g"
      },
      "source": [
        "**Explain and discuss your results here:**\n"
      ]
    },
    {
      "cell_type": "markdown",
      "source": [
        "Accourding to the plots , we can clearly see that $\\mu = 0.1$ gives us the best accuracy and the smallets cost function for the selected batch size (100) and requires only~100 iterations to get to saturation"
      ],
      "metadata": {
        "id": "78QgALvprfrf"
      }
    },
    {
      "cell_type": "markdown",
      "metadata": {
        "id": "EZ5HlDFAzGrH"
      },
      "source": [
        "### Part (g) -- 7%\n",
        "\n",
        "Find the optimial value of ${\\bf w}$ and $b$ using your code. Explain how you chose\n",
        "the learning rate $\\mu$ and the batch size. Show plots demostrating good and bad behaviours."
      ]
    },
    {
      "cell_type": "markdown",
      "source": [
        "In order to find the optimal learning rate $\\mu$ we will try 2 options:\n",
        "1. Use adaptive learning rate as seen in the lecture using the formula:  $\\mu ^k = \\frac{1}{0.01k +2}$ which gives us 0.5~0.15\n",
        "2. Train the network a number of times while each time changing the value and choose the best solution"
      ],
      "metadata": {
        "id": "S4fSIBVTsN7R"
      }
    },
    {
      "cell_type": "code",
      "execution_count": null,
      "metadata": {
        "id": "1dFOFSwgzGrI"
      },
      "outputs": [],
      "source": [
        "w0 = np.random.randn(90)\n",
        "b0 = np.random.randn(1)[0]\n",
        "\n",
        "# Write your code here\n",
        "w1,b1, valid_acc_vec1, epochs_vec1, valid_cost_vec1 = run_gradient_descent(train_norm_xs,train_ts,val_norm_xs,val_ts,w0, b0, mu=0.1, batch_size=100, max_iters=500 , adaptive_learning_rate= True)\n",
        "w2,b2, valid_acc_vec2, epochs_vec2, valid_cost_vec2 = run_gradient_descent(train_norm_xs,train_ts,val_norm_xs,val_ts,w0, b0, mu=0.05, batch_size=100, max_iters=500)\n",
        "w3,b3, valid_acc_vec3, epochs_vec3, valid_cost_vec3 = run_gradient_descent(train_norm_xs,train_ts,val_norm_xs,val_ts,w0, b0, mu=0.3, batch_size=100, max_iters=500)\n",
        "w4,b4, valid_acc_vec4, epochs_vec4, valid_cost_vec4 = run_gradient_descent(train_norm_xs,train_ts,val_norm_xs,val_ts,w0, b0, mu=0.5, batch_size=100, max_iters=500)"
      ]
    },
    {
      "cell_type": "code",
      "source": [
        "plt.title(\"Training Curve - Validation Cost\")\n",
        "plt.plot(epochs_vec1, valid_cost_vec1, label=\"u = adaptive\")\n",
        "plt.plot(epochs_vec2, valid_cost_vec2, label=\"u = 0.05\")\n",
        "plt.plot(epochs_vec3, valid_cost_vec3, label=\"u = 0.3\")\n",
        "plt.plot(epochs_vec4, valid_cost_vec4, label=\"u = 0.5\")\n",
        "plt.xlabel(\"Epoch\")\n",
        "plt.ylabel(\"Cost\")\n",
        "plt.legend(loc='best')\n",
        "plt.show()\n",
        "\n",
        "plt.title(\"Training Curve - Validation Accuracy \")\n",
        "plt.plot(epochs_vec1, valid_acc_vec1, label=\"u = adaptive\")\n",
        "plt.plot(epochs_vec2, valid_acc_vec2, label=\"u = 0.05\")\n",
        "plt.plot(epochs_vec3, valid_acc_vec3, label=\"u = 0.3\")\n",
        "plt.plot(epochs_vec4, valid_acc_vec4, label=\"u = 0.5\")\n",
        "plt.xlabel(\"Epoch\")\n",
        "plt.ylabel(\"Accuracy\")\n",
        "plt.legend(loc='best')\n",
        "plt.show()"
      ],
      "metadata": {
        "id": "9di39ELAvmYS",
        "outputId": "bdf01009-0b9d-4b8a-e451-aaba4126a10d",
        "colab": {
          "base_uri": "https://localhost:8080/",
          "height": 573
        }
      },
      "execution_count": null,
      "outputs": [
        {
          "output_type": "display_data",
          "data": {
            "text/plain": [
              "<Figure size 432x288 with 1 Axes>"
            ],
            "image/png": "[encoded data removed]"
          },
          "metadata": {
            "needs_background": "light"
          }
        },
        {
          "output_type": "display_data",
          "data": {
            "text/plain": [
              "<Figure size 432x288 with 1 Axes>"
            ],
            "image/png": "[encoded data removed]"
          },
          "metadata": {
            "needs_background": "light"
          }
        }
      ]
    },
    {
      "cell_type": "markdown",
      "metadata": {
        "id": "pkZt7_932zX2"
      },
      "source": [
        "**Explain and discuss your results here:**\n",
        "\n",
        "\n"
      ]
    },
    {
      "cell_type": "markdown",
      "source": [
        "We can see that we get the best results from the iterative $\\mu$,\n",
        "if we want $\\mu$ to be constant we will choose 0.3 , we can see that $\\mu$ = 0.5 is better at the first iterations but in the saturation zone its too noisy which means that we taking too large steps in the convex region like we have seen in the lecture:"
      ],
      "metadata": {
        "id": "c_c9uPyUeq8k"
      }
    },
    {
      "cell_type": "markdown",
      "source": [
        "![image.png](data:image/png;base64,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)"
      ],
      "metadata": {
        "id": "49Cs8hQkhpPe"
      }
    },
    {
      "cell_type": "markdown",
      "metadata": {
        "id": "1KrQqSj2zGrI"
      },
      "source": [
        "### Part (h) -- 15%\n",
        "\n",
        "Using the values of `w` and `b` from part (g), compute your training accuracy, validation accuracy,\n",
        "and test accuracy. Are there any differences between those three values? If so, why?"
      ]
    },
    {
      "cell_type": "code",
      "execution_count": null,
      "metadata": {
        "id": "fuKw2mLozGrI",
        "colab": {
          "base_uri": "https://localhost:8080/"
        },
        "outputId": "da7de8cf-dcd5-4412-b18a-930e5dd65791"
      },
      "outputs": [
        {
          "output_type": "stream",
          "name": "stdout",
          "text": [
            "train_acc =  0.7235101458733669  val_acc =  0.7257  test_acc =  0.7144489637807476\n"
          ]
        }
      ],
      "source": [
        "# Write your code here\n",
        "\n",
        "train_acc = get_accuracy(pred(w1 , b1 , train_norm_xs), train_ts)\n",
        "val_acc = get_accuracy(pred(w1 , b1 , val_norm_xs), val_ts)\n",
        "test_acc = get_accuracy(pred(w1 , b1 , test_norm_xs), test_ts)\n",
        "\n",
        "print('train_acc = ', train_acc, ' val_acc = ', val_acc, ' test_acc = ', test_acc)\n"
      ]
    },
    {
      "cell_type": "markdown",
      "metadata": {
        "id": "RXZa1u6920M3"
      },
      "source": [
        "**Explain and discuss your results here:**\n"
      ]
    },
    {
      "cell_type": "markdown",
      "source": [
        "We used w and b from the iterative $\\mu$ calculation:\n",
        "\n",
        "We expect to get the best accuracy from the train and validation data , this is because the training data was the data the network used in order to learn the parameters. The validation data was used by us to determine the smallest loss value for the network.\n",
        "\n",
        "The test data accuracy we recieved is smaller but still very close to the train and validation data which means that the result are consistent for data that has similar probability distribution as the training data.\n",
        "\n",
        "In addition , can generally see that the results are not very high (only 71% accuracy) which makes sense according to the fact we used only one layer whitout any hidden layers."
      ],
      "metadata": {
        "id": "vV-fa22Ojl5X"
      }
    },
    {
      "cell_type": "markdown",
      "metadata": {
        "id": "h4eP2Yh1zGrI"
      },
      "source": [
        "### Part (i) -- 15%\n",
        "\n",
        "Writing a classifier like this is instructive, and helps you understand what happens when\n",
        "we train a model. However, in practice, we rarely write model building and training code\n",
        "from scratch. Instead, we typically use one of the well-tested libraries available in a package.\n",
        "\n",
        "Use `sklearn.linear_model.LogisticRegression` to build a linear classifier, and make predictions about the test set. Start by reading the\n",
        "[API documentation here](https://scikit-learn.org/stable/modules/generated/sklearn.linear_model.LogisticRegression.html).\n",
        "\n",
        "Compute the training, validation and test accuracy of this model."
      ]
    },
    {
      "cell_type": "code",
      "source": [
        "y_train = []\n",
        "for d in range(len(train_ts)):\n",
        "  y_train.append(train_ts[d,0])"
      ],
      "metadata": {
        "id": "o19i-deEbYKn"
      },
      "execution_count": null,
      "outputs": []
    },
    {
      "cell_type": "code",
      "execution_count": null,
      "metadata": {
        "id": "24LCfAa1zGrJ",
        "colab": {
          "base_uri": "https://localhost:8080/"
        },
        "outputId": "1c41e2d4-1aeb-419f-96ad-87ec4a458eca"
      },
      "outputs": [
        {
          "output_type": "stream",
          "name": "stdout",
          "text": [
            "train_acc =  0.7260726072607261  val_acc =  0.7354735473547355  test_acc =  0.7224722472247225\n"
          ]
        }
      ],
      "source": [
        "import sklearn.linear_model\n",
        "from sklearn.linear_model import LogisticRegression\n",
        "x_train= train_norm_xs.tolist()\n",
        "model = LogisticRegression()\n",
        "sklearn_model = model.fit(x_train, y_train)\n",
        "\n",
        "\n",
        "\n",
        "\n",
        "train_acc = sklearn_model.score(train_norm_xs[1:10000],train_ts[1:10000])\n",
        "val_acc = sklearn_model.score(val_norm_xs[1:10000],val_ts[1:10000])\n",
        "test_acc = sklearn_model.score(test_norm_xs[1:10000], test_ts[1:10000])\n",
        "\n",
        "print('train_acc = ', train_acc, ' val_acc = ', val_acc, ' test_acc = ', test_acc)"
      ]
    },
    {
      "cell_type": "markdown",
      "metadata": {
        "id": "HRqucdV923tG"
      },
      "source": [
        "**This parts helps by checking if the code worked.**\n",
        "**Check if you get similar results, if not repair your code**\n"
      ]
    }
  ],
  "metadata": {
    "accelerator": "GPU",
    "colab": {
      "provenance": []
    },
    "kernelspec": {
      "display_name": "Python 3 (ipykernel)",
      "language": "python",
      "name": "python3"
    },
    "language_info": {
      "codemirror_mode": {
        "name": "ipython",
        "version": 3
      },
      "file_extension": ".py",
      "mimetype": "text/x-python",
      "name": "python",
      "nbconvert_exporter": "python",
      "pygments_lexer": "ipython3",
      "version": "3.9.12"
    }
  },
  "nbformat": 4,
  "nbformat_minor": 0
}